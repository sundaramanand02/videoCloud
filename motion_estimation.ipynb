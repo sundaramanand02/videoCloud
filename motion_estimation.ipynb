{
  "cells": [
    {
      "cell_type": "code",
      "execution_count": 1,
      "metadata": {
        "id": "KwVZX-DmlYJG"
      },
      "outputs": [],
      "source": [
        "import numpy as np\n",
        "\n",
        "def block_matching(frame1, frame2, block_size, search_range):\n",
        "  \"\"\"Performs block matching between two frames.\n",
        "    frame1: The first frame as a NumPy array.\n",
        "    frame2: The second frame as a NumPy array.\n",
        "    block_size: The size of the blocks to match.\n",
        "    search_range: The maximum displacement to search for matching blocks.\n",
        "\n",
        "    Returns a list of motion vectors, where each vector is a tuple of (x_displacement, y_displacement).\n",
        "  \"\"\"\n",
        "\n",
        "  height, width = frame1.shape[:2]\n",
        "  motion_vectors = []\n",
        "\n",
        "  for y in range(0, height - block_size, block_size):\n",
        "    for x in range(0, width - block_size, block_size):\n",
        "      block1 = frame1[y:y+block_size, x:x+block_size]\n",
        "\n",
        "      best_match = None\n",
        "      min_error = np.inf\n",
        "\n",
        "      for dy in range(-search_range, search_range + 1):\n",
        "        for dx in range(-search_range, search_range + 1):\n",
        "          y2 = y + dy\n",
        "          x2 = x + dx\n",
        "\n",
        "          if 0 <= y2 < height - block_size and 0 <= x2 < width - block_size:\n",
        "            block2 = frame2[y2:y2+block_size, x2:x2+block_size]\n",
        "            error = np.sum((block1 - block2)**2) / (block_size**2)  # MSE\n",
        "            if error < min_error:\n",
        "              min_error = error\n",
        "              best_match = (dx, dy)\n",
        "\n",
        "      motion_vectors.append([x, y, best_match[0], best_match[1]])\n",
        "\n",
        "  return motion_vectors"
      ]
    },
    {
      "cell_type": "code",
      "execution_count": 2,
      "metadata": {
        "id": "BTdiEPfXldLS"
      },
      "outputs": [],
      "source": [
        "import cv2\n",
        "import numpy as np\n",
        "\n",
        "motion_vector_final = []\n",
        "video_path = 'file.mp4'\n",
        "cap = cv2.VideoCapture(video_path)\n",
        "motion_vec_final = []\n",
        "# fourcc = cv2.VideoWriter_fourcc(*'XVID')\n",
        "# output_path = 'motion_estimation.mp4'\n",
        "# out = cv2.VideoWriter(output_path, fourcc, 30, (int(cap.get(3)), int(cap.get(4))))\n",
        "\n",
        "block_size = 64  # Size of the block for motion estimation\n",
        "max_displacement = 8  # Maximum displacement to search within\n",
        "prev_frame = []\n",
        "while cap.isOpened():\n",
        "    ret, frame = cap.read()\n",
        "    if not ret:\n",
        "        break\n",
        "    gray_frame = cv2.cvtColor(frame, cv2.COLOR_BGR2GRAY)\n",
        "    if len(prev_frame) == 0:\n",
        "        prev_frame = gray_frame\n",
        "        continue\n",
        "\n",
        "    motion_vec = block_matching(prev_frame, gray_frame, block_size, max_displacement)\n",
        "    motion_vec_final.append(motion_vec)\n",
        "\n",
        "    # out.write(output_frame)\n",
        "    motion_vec_final.append(motion_vec)\n",
        "cap.release()\n",
        "# out.release()\n",
        "cv2.destroyAllWindows()\n",
        "np.save('motion_vectors.npy', motion_vec_final)"
      ]
    },
    {
      "cell_type": "code",
      "execution_count": null,
      "metadata": {
        "colab": {
          "base_uri": "https://localhost:8080/"
        },
        "id": "Ui2U28mPkXK_",
        "outputId": "d515000d-bbc6-4e5f-9e2b-40dca71c4017"
      },
      "outputs": [
        {
          "name": "stdout",
          "output_type": "stream",
          "text": [
            "j\n"
          ]
        }
      ],
      "source": [
        "\"\"\"\n",
        "motion_vector_npy = np.array(motion_vectors)\n",
        "# print(motion_vector_npy.shape)\n",
        "with open('my_array.bin', 'wb') as f:\n",
        "    # Flatten the array into a single array of bytes\n",
        "    flat_array = motion_vector_npy.flatten().astype(np.float32).tobytes()\n",
        "    f.write(flat_array)  # Write the byte array to the file\n",
        "\n",
        "# Load the array from the binary file\n",
        "with open('my_array.bin', 'rb') as f:\n",
        "    # Read the entire byte array from the file\n",
        "    byte_array = f.read()\n",
        "    # Reshape the bytes back into the original array shape\n",
        "    loaded_array = np.frombuffer(byte_array, dtype=np.float32).reshape(motion_vector_npy.shape)\n",
        "\n",
        "print(loaded_array)\n",
        "\"\"\"\n",
        "print(\"j\")"
      ]
    },
    {
      "cell_type": "code",
      "execution_count": null,
      "metadata": {
        "colab": {
          "base_uri": "https://localhost:8080/"
        },
        "id": "BhE8RcDWlgDp",
        "outputId": "8971ed97-4c0a-42b6-d53d-8cf8918c8eba"
      },
      "outputs": [
        {
          "name": "stdout",
          "output_type": "stream",
          "text": [
            "76\n"
          ]
        }
      ],
      "source": [
        "print(len(motion_vec_final))"
      ]
    },
    {
      "cell_type": "code",
      "execution_count": null,
      "metadata": {
        "colab": {
          "base_uri": "https://localhost:8080/"
        },
        "id": "cNC6HsfJk_Sb",
        "outputId": "6a53fdab-2c60-4a12-a7cb-6ebffa122e04"
      },
      "outputs": [
        {
          "name": "stdout",
          "output_type": "stream",
          "text": [
            "[[0, 0, 1, 0], [64, 0, 1, 0], [128, 0, 0, 0], [192, 0, -1, 0], [256, 0, -1, 0], [320, 0, 0, 0], [384, 0, 0, 0], [448, 0, 0, 0], [512, 0, 0, 0], [576, 0, 0, 0], [640, 0, -1, 0], [704, 0, 0, 0], [768, 0, -1, 0], [0, 64, 1, -1], [64, 64, -3, -1], [128, 64, -2, -2], [192, 64, -1, 0], [256, 64, -1, -1], [320, 64, 0, 0], [384, 64, 0, 0], [448, 64, 0, 0], [512, 64, 0, 0], [576, 64, 0, 0], [640, 64, -1, 0], [704, 64, -2, 0], [768, 64, -4, 0], [0, 128, 1, 1], [64, 128, -2, 0], [128, 128, -2, -1], [192, 128, -1, 0], [256, 128, -1, 0], [320, 128, 0, 0], [384, 128, 0, 0], [448, 128, 0, 0], [512, 128, 0, 0], [576, 128, 0, 0], [640, 128, -1, 0], [704, 128, -1, 0], [768, 128, 5, 3], [0, 192, 0, 1], [64, 192, -4, -1], [128, 192, -2, 0], [192, 192, -1, 0], [256, 192, 0, 0], [320, 192, 0, 0], [384, 192, 0, 0], [448, 192, 0, 0], [512, 192, -2, 0], [576, 192, -6, 1], [640, 192, -8, 1], [704, 192, -7, -2], [768, 192, -7, -8], [0, 256, 0, 2], [64, 256, 1, 0], [128, 256, -3, 0], [192, 256, -2, 0], [256, 256, -1, 0], [320, 256, 0, 0], [384, 256, 0, 0], [448, 256, -1, 0], [512, 256, -2, 1], [576, 256, 1, 8], [640, 256, -8, -1], [704, 256, -8, -1], [768, 256, -5, 8], [0, 320, 2, 3], [64, 320, 0, -1], [128, 320, -2, -1], [192, 320, -1, 0], [256, 320, 0, 0], [320, 320, 0, 0], [384, 320, 0, 0], [448, 320, 0, 0], [512, 320, 0, -1], [576, 320, -1, -1], [640, 320, -3, -1], [704, 320, 8, 0], [768, 320, 0, -2], [0, 384, 3, 0], [64, 384, -4, 0], [128, 384, -4, 0], [192, 384, 0, 0], [256, 384, 0, 0], [320, 384, 0, 0], [384, 384, 0, 0], [448, 384, 0, 0], [512, 384, 0, 0], [576, 384, 0, 0], [640, 384, 0, 0], [704, 384, -8, -8], [768, 384, 0, -2]]\n"
          ]
        }
      ],
      "source": [
        "print(motion_vec_final[0])"
      ]
    },
    {
      "cell_type": "code",
      "execution_count": 3,
      "metadata": {
        "colab": {
          "base_uri": "https://localhost:8080/"
        },
        "id": "d9l8zbHvtYPI",
        "outputId": "442b469f-7fab-4d86-a9ce-e483609a2c7f"
      },
      "outputs": [
        {
          "name": "stdout",
          "output_type": "stream",
          "text": [
            "<class 'numpy.ndarray'>\n",
            "<class 'bytes'>\n"
          ]
        }
      ],
      "source": [
        "import numpy as np\n",
        "from cryptography.fernet import Fernet\n",
        "\n",
        "def encrypt_npy_file(input_file_path, output_file_path, key):\n",
        "    cipher = Fernet(key)\n",
        "    data = np.load(input_file_path)\n",
        "    serialized_data = data.tobytes()\n",
        "    encrypted_data = cipher.encrypt(serialized_data)\n",
        "\n",
        "    with open(output_file_path, 'wb') as file:\n",
        "        file.write(encrypted_data)\n",
        "\n",
        "def decrypt_npy_file(input_file_path, output_file_path, key):\n",
        "    cipher = Fernet(key)\n",
        "\n",
        "    with open(input_file_path, 'rb') as file:\n",
        "        encrypted_data = file.read()\n",
        "\n",
        "    decrypted_data = cipher.decrypt(encrypted_data)\n",
        "    array_data = np.frombuffer(decrypted_data, dtype=np.float64)\n",
        "\n",
        "    np.save(output_file_path, array_data)\n",
        "\n",
        "\n",
        "key = Fernet.generate_key()\n",
        "\n",
        "input_npy_file_path = 'motion_vectors.npy'\n",
        "encrypted_npy_file_path = 'encrypted.npy'\n",
        "decrypted_npy_file_path = 'decrypted.npy'\n",
        "\n",
        "encrypt_npy_file(input_npy_file_path, encrypted_npy_file_path, key)\n",
        "\n",
        "decrypt_npy_file(encrypted_npy_file_path, decrypted_npy_file_path, key)"
      ]
    },
    {
      "cell_type": "code",
      "execution_count": null,
      "metadata": {
        "colab": {
          "base_uri": "https://localhost:8080/"
        },
        "id": "nnifMh3pBT8_",
        "outputId": "f59b08fb-c6b4-4792-bb59-b4ca5398da5c"
      },
      "outputs": [
        {
          "name": "stdout",
          "output_type": "stream",
          "text": [
            "Collecting pycryptodome\n",
            "  Downloading pycryptodome-3.20.0-cp35-abi3-manylinux_2_17_x86_64.manylinux2014_x86_64.whl (2.1 MB)\n",
            "\u001b[?25l     \u001b[90m━━━━━━━━━━━━━━━━━━━━━━━━━━━━━━━━━━━━━━━━\u001b[0m \u001b[32m0.0/2.1 MB\u001b[0m \u001b[31m?\u001b[0m eta \u001b[36m-:--:--\u001b[0m\r\u001b[2K     \u001b[91m━━━\u001b[0m\u001b[90m╺\u001b[0m\u001b[90m━━━━━━━━━━━━━━━━━━━━━━━━━━━━━━━━━━━━\u001b[0m \u001b[32m0.2/2.1 MB\u001b[0m \u001b[31m5.0 MB/s\u001b[0m eta \u001b[36m0:00:01\u001b[0m\r\u001b[2K     \u001b[91m━━━━━━━━━━━━━━━━━━━━━━━━━━━━━━━━━\u001b[0m\u001b[90m╺\u001b[0m\u001b[90m━━━━━━\u001b[0m \u001b[32m1.8/2.1 MB\u001b[0m \u001b[31m25.6 MB/s\u001b[0m eta \u001b[36m0:00:01\u001b[0m\r\u001b[2K     \u001b[90m━━━━━━━━━━━━━━━━━━━━━━━━━━━━━━━━━━━━━━━━\u001b[0m \u001b[32m2.1/2.1 MB\u001b[0m \u001b[31m21.7 MB/s\u001b[0m eta \u001b[36m0:00:00\u001b[0m\n",
            "\u001b[?25hInstalling collected packages: pycryptodome\n",
            "Successfully installed pycryptodome-3.20.0\n"
          ]
        }
      ],
      "source": [
        "pip install pycryptodome"
      ]
    },
    {
      "cell_type": "code",
      "execution_count": null,
      "metadata": {
        "colab": {
          "base_uri": "https://localhost:8080/",
          "height": 346
        },
        "id": "BdnzRBnAtuQG",
        "outputId": "bdf93f55-3c57-4956-eef1-9e1fe11c4d13"
      },
      "outputs": [
        {
          "ename": "FileNotFoundError",
          "evalue": "[Errno 2] No such file or directory: 'input.bin'",
          "output_type": "error",
          "traceback": [
            "\u001b[0;31m---------------------------------------------------------------------------\u001b[0m",
            "\u001b[0;31mFileNotFoundError\u001b[0m                         Traceback (most recent call last)",
            "\u001b[0;32m<ipython-input-17-bfc4eed9833b>\u001b[0m in \u001b[0;36m<cell line: 34>\u001b[0;34m()\u001b[0m\n\u001b[1;32m     32\u001b[0m \u001b[0minput_file\u001b[0m \u001b[0;34m=\u001b[0m \u001b[0;34m'input.bin'\u001b[0m\u001b[0;34m\u001b[0m\u001b[0;34m\u001b[0m\u001b[0m\n\u001b[1;32m     33\u001b[0m \u001b[0moutput_file\u001b[0m \u001b[0;34m=\u001b[0m \u001b[0;34m'encrypted.bin'\u001b[0m\u001b[0;34m\u001b[0m\u001b[0;34m\u001b[0m\u001b[0m\n\u001b[0;32m---> 34\u001b[0;31m \u001b[0mencrypt_file\u001b[0m\u001b[0;34m(\u001b[0m\u001b[0minput_file\u001b[0m\u001b[0;34m,\u001b[0m \u001b[0moutput_file\u001b[0m\u001b[0;34m,\u001b[0m \u001b[0mkey\u001b[0m\u001b[0;34m)\u001b[0m\u001b[0;34m\u001b[0m\u001b[0;34m\u001b[0m\u001b[0m\n\u001b[0m\u001b[1;32m     35\u001b[0m \u001b[0mprint\u001b[0m\u001b[0;34m(\u001b[0m\u001b[0;34m\"File encrypted.\"\u001b[0m\u001b[0;34m)\u001b[0m\u001b[0;34m\u001b[0m\u001b[0;34m\u001b[0m\u001b[0m\n\u001b[1;32m     36\u001b[0m \u001b[0;34m\u001b[0m\u001b[0m\n",
            "\u001b[0;32m<ipython-input-17-bfc4eed9833b>\u001b[0m in \u001b[0;36mencrypt_file\u001b[0;34m(input_file, output_file, key)\u001b[0m\n\u001b[1;32m      6\u001b[0m \u001b[0;32mdef\u001b[0m \u001b[0mencrypt_file\u001b[0m\u001b[0;34m(\u001b[0m\u001b[0minput_file\u001b[0m\u001b[0;34m,\u001b[0m \u001b[0moutput_file\u001b[0m\u001b[0;34m,\u001b[0m \u001b[0mkey\u001b[0m\u001b[0;34m)\u001b[0m\u001b[0;34m:\u001b[0m\u001b[0;34m\u001b[0m\u001b[0;34m\u001b[0m\u001b[0m\n\u001b[1;32m      7\u001b[0m     \u001b[0mcipher\u001b[0m \u001b[0;34m=\u001b[0m \u001b[0mAES\u001b[0m\u001b[0;34m.\u001b[0m\u001b[0mnew\u001b[0m\u001b[0;34m(\u001b[0m\u001b[0mkey\u001b[0m\u001b[0;34m,\u001b[0m \u001b[0mAES\u001b[0m\u001b[0;34m.\u001b[0m\u001b[0mMODE_CBC\u001b[0m\u001b[0;34m)\u001b[0m\u001b[0;34m\u001b[0m\u001b[0;34m\u001b[0m\u001b[0m\n\u001b[0;32m----> 8\u001b[0;31m     \u001b[0;32mwith\u001b[0m \u001b[0mopen\u001b[0m\u001b[0;34m(\u001b[0m\u001b[0minput_file\u001b[0m\u001b[0;34m,\u001b[0m \u001b[0;34m'rb'\u001b[0m\u001b[0;34m)\u001b[0m \u001b[0;32mas\u001b[0m \u001b[0mfile\u001b[0m\u001b[0;34m:\u001b[0m\u001b[0;34m\u001b[0m\u001b[0;34m\u001b[0m\u001b[0m\n\u001b[0m\u001b[1;32m      9\u001b[0m         \u001b[0mplaintext\u001b[0m \u001b[0;34m=\u001b[0m \u001b[0mfile\u001b[0m\u001b[0;34m.\u001b[0m\u001b[0mread\u001b[0m\u001b[0;34m(\u001b[0m\u001b[0;34m)\u001b[0m\u001b[0;34m\u001b[0m\u001b[0;34m\u001b[0m\u001b[0m\n\u001b[1;32m     10\u001b[0m     \u001b[0mct_bytes\u001b[0m \u001b[0;34m=\u001b[0m \u001b[0mcipher\u001b[0m\u001b[0;34m.\u001b[0m\u001b[0mencrypt\u001b[0m\u001b[0;34m(\u001b[0m\u001b[0mpad\u001b[0m\u001b[0;34m(\u001b[0m\u001b[0mplaintext\u001b[0m\u001b[0;34m,\u001b[0m \u001b[0mAES\u001b[0m\u001b[0;34m.\u001b[0m\u001b[0mblock_size\u001b[0m\u001b[0;34m)\u001b[0m\u001b[0;34m)\u001b[0m\u001b[0;34m\u001b[0m\u001b[0;34m\u001b[0m\u001b[0m\n",
            "\u001b[0;31mFileNotFoundError\u001b[0m: [Errno 2] No such file or directory: 'input.bin'"
          ]
        }
      ],
      "source": [
        "from Crypto.Cipher import AES\n",
        "from Crypto.Random import get_random_bytes\n",
        "from Crypto.Util.Padding import pad, unpad\n",
        "import base64\n",
        "\n",
        "def encrypt_file(input_file, output_file, key):\n",
        "    cipher = AES.new(key, AES.MODE_CBC)\n",
        "    with open(input_file, 'rb') as file:\n",
        "        plaintext = file.read()\n",
        "    ct_bytes = cipher.encrypt(pad(plaintext, AES.block_size))\n",
        "    iv = base64.b64encode(cipher.iv).decode('utf-8')\n",
        "    ct = base64.b64encode(ct_bytes).decode('utf-8')\n",
        "    with open(output_file, 'w') as file:\n",
        "        file.write(iv + '\\n')\n",
        "        file.write(ct)\n",
        "\n",
        "def decrypt_file(input_file, output_file, key):\n",
        "    with open(input_file, 'r') as file:\n",
        "        iv = file.readline().strip()\n",
        "        ciphertext = file.readline()\n",
        "    iv = base64.b64decode(iv)\n",
        "    ciphertext = base64.b64decode(ciphertext)\n",
        "    cipher = AES.new(key, AES.MODE_CBC, iv)\n",
        "    plaintext = unpad(cipher.decrypt(ciphertext), AES.block_size)\n",
        "    with open(output_file, 'wb') as file:\n",
        "        file.write(plaintext)\n",
        "\n",
        "# Example usage:\n",
        "key = get_random_bytes(16)  # Generate a random 16 bytes key\n",
        "\n",
        "# Encrypt file\n",
        "input_file = 'input.bin'\n",
        "output_file = 'encrypted.bin'\n",
        "encrypt_file(input_file, output_file, key)\n",
        "print(\"File encrypted.\")\n",
        "\n",
        "# Decrypt file\n",
        "input_file = 'encrypted.bin'\n",
        "output_file = 'decrypted.bin'\n",
        "decrypt_file(input_file, output_file, key)\n",
        "print(\"File decrypted.\")\n"
      ]
    },
    {
      "cell_type": "code",
      "execution_count": null,
      "metadata": {
        "colab": {
          "base_uri": "https://localhost:8080/"
        },
        "id": "RIW5sNxTBrVe",
        "outputId": "0957341f-caf1-4585-9bbc-385cc9f2c02d"
      },
      "outputs": [
        {
          "name": "stdout",
          "output_type": "stream",
          "text": [
            "File encrypted.\n",
            "File decrypted.\n"
          ]
        }
      ],
      "source": [
        "from Crypto.Cipher import AES\n",
        "from Crypto.Random import get_random_bytes\n",
        "from Crypto.Util.Padding import pad, unpad\n",
        "import base64\n",
        "import numpy as np\n",
        "\n",
        "def encrypt_npy_file(input_file, output_file, key):\n",
        "    data = np.load(input_file)\n",
        "\n",
        "    data_bytes = data.tobytes()\n",
        "\n",
        "    cipher = AES.new(key, AES.MODE_CBC)\n",
        "    ct_bytes = cipher.encrypt(pad(data_bytes, AES.block_size))\n",
        "\n",
        "    with open(output_file, 'wb') as f:\n",
        "        f.write(cipher.iv)\n",
        "        f.write(ct_bytes)\n",
        "\n",
        "def decrypt_npy_file(input_file, output_file, key):\n",
        "    with open(input_file, 'rb') as f:\n",
        "        iv = f.read(16)\n",
        "        ct_bytes = f.read()\n",
        "\n",
        "    cipher = AES.new(key, AES.MODE_CBC, iv)\n",
        "    pt_bytes = unpad(cipher.decrypt(ct_bytes), AES.block_size)\n",
        "\n",
        "    data = np.frombuffer(pt_bytes, dtype=np.float32)\n",
        "    np.save(output_file, data)\n",
        "key = get_random_bytes(16)\n",
        "\n",
        "input_file = 'motion_vectors.npy'\n",
        "output_file = 'encrypted.npy'\n",
        "encrypt_npy_file(input_file, output_file, key)\n",
        "print(\"File encrypted.\")\n",
        "\n",
        "input_file = 'encrypted.npy'\n",
        "output_file = 'decrypted.npy'\n",
        "decrypt_npy_file(input_file, output_file, key)\n",
        "print(\"File decrypted.\")"
      ]
    },
    {
      "cell_type": "code",
      "execution_count": null,
      "metadata": {
        "colab": {
          "base_uri": "https://localhost:8080/"
        },
        "id": "iQD2OvsdE9Sx",
        "outputId": "cb54f036-72d0-4317-e015-ad3f5708623f"
      },
      "outputs": [
        {
          "name": "stdout",
          "output_type": "stream",
          "text": [
            "Original Message: Hello, AES encryption!\n",
            "Encrypted Message (in bytes): b\"\\xcd\\x03\\xbf\\x0c\\x95-\\xddH\\xadoy\\xc6\\xcc\\xbd\\xa7\\xd6P\\xf9^\\x0f\\xb9'\\xe1\\x03W\\xcf\\xad\\xd9F\\xb4\\xcb\\x1f\"\n",
            "Decrypted Message: Hello, AES encryption!\n"
          ]
        }
      ],
      "source": [
        "from Crypto.Cipher import AES\n",
        "from Crypto.Random import get_random_bytes\n",
        "from Crypto.Util.Padding import pad, unpad\n",
        "\n",
        "def encrypt_message(message, key):\n",
        "    cipher = AES.new(key, AES.MODE_CBC)\n",
        "    ct_bytes = cipher.encrypt(pad(message.encode(), AES.block_size))\n",
        "    iv = cipher.iv\n",
        "    return iv, ct_bytes\n",
        "\n",
        "def decrypt_message(iv, ciphertext, key):\n",
        "    cipher = AES.new(key, AES.MODE_CBC, iv)\n",
        "    pt_bytes = cipher.decrypt(ciphertext)\n",
        "    return pt_bytes.decode().strip()\n",
        "\n",
        "key = get_random_bytes(16)  # Generate a random 16 bytes key\n",
        "message = \"Hello, AES encryption!\"\n",
        "print(\"Original Message:\", message)\n",
        "\n",
        "iv, ciphertext = encrypt_message(message, key)\n",
        "print(\"Encrypted Message (in bytes):\", ciphertext)\n",
        "\n",
        "decrypted_message = decrypt_message(iv, ciphertext, key)\n",
        "print(\"Decrypted Message:\", decrypted_message)\n"
      ]
    }
  ],
  "metadata": {
    "colab": {
      "provenance": []
    },
    "kernelspec": {
      "display_name": "Python 3",
      "name": "python3"
    },
    "language_info": {
      "codemirror_mode": {
        "name": "ipython",
        "version": 3
      },
      "file_extension": ".py",
      "mimetype": "text/x-python",
      "name": "python",
      "nbconvert_exporter": "python",
      "pygments_lexer": "ipython3",
      "version": "3.12.2"
    }
  },
  "nbformat": 4,
  "nbformat_minor": 0
}
